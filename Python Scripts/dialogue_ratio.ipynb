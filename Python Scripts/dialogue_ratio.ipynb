{
 "cells": [
  {
   "cell_type": "code",
   "execution_count": null,
   "id": "168f9a5c",
   "metadata": {},
   "outputs": [],
   "source": [
    "\"\"\"\n",
    "Created on 2025/5/21\n",
    "@author: Joyce Li\n",
    "\"\"\"\n",
    "\n",
    "import re\n",
    "\n",
    "def calculate_dialogue_ratio(filepath):\n",
    "    \"\"\"\n",
    "    Calculates the dialogue ratio of a text file.\n",
    "    The dialogue ratio: percentage of words that appear inside quotation marks.\n",
    "    \"\"\"\n",
    "\n",
    "    with open(filepath, 'r', encoding='utf-8') as file:\n",
    "        text = file.read()\n",
    "\n",
    "    total = len(text.split())\n",
    "    if total == 0:\n",
    "        return 0.0\n",
    "\n",
    "    dialogue_segments = re.findall(r'\\\"(.*?)\\\"', text, re.DOTALL)\n",
    "    dialogue = sum(len(segment.split()) for segment in dialogue_segments)\n",
    "\n",
    "    dialogue_ratio = dialogue / total\n",
    "    return round(dialogue_ratio, 4)\n",
    "\n",
    "\n",
    "if __name__ == '__main__':\n",
    "    dialogue_ratio = calculate_dialogue_ratio(\"data/Kawano-OriginNemesis-1998.txt\")\n",
    "    print(f\"Dialogue Ratio: {dialogue_ratio:.2%}\")\n"
   ]
  }
 ],
 "metadata": {
  "language_info": {
   "name": "python"
  }
 },
 "nbformat": 4,
 "nbformat_minor": 5
}
